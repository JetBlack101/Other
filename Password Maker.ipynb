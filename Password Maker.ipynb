{
 "cells": [
  {
   "cell_type": "markdown",
   "metadata": {},
   "source": [
    "# Simple password generator"
   ]
  },
  {
   "cell_type": "markdown",
   "metadata": {},
   "source": [
    "## Functional apprach"
   ]
  },
  {
   "cell_type": "code",
   "execution_count": 63,
   "metadata": {},
   "outputs": [],
   "source": [
    "import numpy as np"
   ]
  },
  {
   "cell_type": "code",
   "execution_count": 2,
   "metadata": {},
   "outputs": [],
   "source": [
    "num = [str(n) for n in range(0,10)]\n",
    "char = [\"a\",\"b\",\"c\",\"d\",\"e\",\"f\",\"g\",\"h\",\"i\",\"j\",\"k\",\"l\",\"m\",\"n\",\"o\",\"p\",\"q\",\"r\",\"s\",\"t\",\"u\",\"v\",\"w\",\"x\",\"y\",\"z\"]\n",
    "symb = [\"!\",\"#\",\"$\",\"%\",\"^\",\"&\",\"*\",\"+\",\"-\",\"=\"]\n",
    "upper_char = [c.upper() for c in char]"
   ]
  },
  {
   "cell_type": "code",
   "execution_count": 167,
   "metadata": {},
   "outputs": [],
   "source": [
    "def passGen(lenght=12, numbers=True, chars=True, symbols=True, upper=True):\n",
    "    \n",
    "    \"\"\"Simple password maker with five arguments and information about it strenght.\"\"\"\n",
    "\n",
    "    bin = []\n",
    "    \n",
    "    if numbers==False and chars==False and symbols==False and upper==False:\n",
    "        print(\"\")    \n",
    "        print(\"-\"*62) \n",
    "        print(\"At least one argument must be given. Pass arrguments such as: \\nnumbers, chars, symbols, upper.\")\n",
    "        print(\"-\"*62) \n",
    "        print(\"\")    \n",
    "                \n",
    "    else:\n",
    "        \n",
    "        if numbers == True:\n",
    "            bin.extend(num)\n",
    "        if chars == True:\n",
    "            bin.extend(char)\n",
    "        if symbols == True:\n",
    "            bin.extend(symb)\n",
    "        if upper == True:\n",
    "            bin.extend(upper_char)\n",
    "\n",
    "        passwd = \"\".join(np.random.choice(bin, size=lenght))\n",
    "\n",
    "        print(\"\")\n",
    "        print(passwd)\n",
    "        print(\"\")\n",
    "        \n",
    "        # https://thycotic.force.com/support/s/article/Calculating-Password-Complexity\n",
    "       \n",
    "        combinations = len(bin)**lenght\n",
    "        time = ((1.7*10**-6*combinations)/2)/86400/365 #588235 per second modern computer\n",
    "        \n",
    "        print(\"-\"*88)\n",
    "        print(f\"\\nYour password is constructed with {lenght} elements from a {len(bin)} elements set.\") \n",
    "        print(f\"It has {combinations:,d} possible combinations. \\nIt will take approximatelly:\")\n",
    "        print(f\"~ {round(time,2)} years to crack it on a modern computer (8 core, 2.8 GHz processor).\")\n",
    "        print(f\"~ {round(time/100,2)} years to crack it on a modern computer equipped with GPU or 3D card.\")\n",
    "        print(f\"~ {round(time/100000,2)} years to crack it on a supercomputer or a botnet.\\n\")\n",
    "        print(\"-\"*88)\n"
   ]
  },
  {
   "cell_type": "code",
   "execution_count": 177,
   "metadata": {},
   "outputs": [
    {
     "name": "stdout",
     "output_type": "stream",
     "text": [
      "\n",
      "4x-l4Cdxbgb5NB22p=6PTdm4f&TSteuhpr0T\n",
      "\n",
      "----------------------------------------------------------------------------------------\n",
      "\n",
      "Your password is constructed with 36 elements from a 72 elements set.\n",
      "It has 7,310,883,636,562,819,725,182,433,070,324,627,244,481,920,983,691,122,184,173,803,012,096 possible combinations. \n",
      "It will take approximatelly:\n",
      "~ 1.9705260943297805e+53 years to crack it on a modern computer (8 core, 2.8 GHz processor).\n",
      "~ 1.9705260943297804e+51 years to crack it on a modern computer equipped with GPU or 3D card.\n",
      "~ 1.9705260943297805e+48 years to crack it on a supercomputer or a botnet.\n",
      "\n",
      "----------------------------------------------------------------------------------------\n"
     ]
    }
   ],
   "source": [
    "passGen(36,1,1,1,1)"
   ]
  }
 ],
 "metadata": {
  "kernelspec": {
   "display_name": "Python 3",
   "language": "python",
   "name": "python3"
  },
  "language_info": {
   "codemirror_mode": {
    "name": "ipython",
    "version": 3
   },
   "file_extension": ".py",
   "mimetype": "text/x-python",
   "name": "python",
   "nbconvert_exporter": "python",
   "pygments_lexer": "ipython3",
   "version": "3.8.5"
  }
 },
 "nbformat": 4,
 "nbformat_minor": 4
}
