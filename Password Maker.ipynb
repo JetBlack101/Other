{
 "cells": [
  {
   "cell_type": "markdown",
   "metadata": {},
   "source": [
    "# Simple password generator"
   ]
  },
  {
   "cell_type": "code",
   "execution_count": 309,
   "metadata": {},
   "outputs": [],
   "source": [
    "import numpy as np"
   ]
  },
  {
   "cell_type": "code",
   "execution_count": 310,
   "metadata": {},
   "outputs": [],
   "source": [
    "num = [str(n) for n in range(0,10)]\n",
    "char = [\"a\",\"b\",\"c\",\"d\",\"e\",\"f\",\"g\",\"h\",\"i\",\"j\",\"k\",\"l\",\"m\",\"n\",\"o\",\"p\",\"q\",\"r\",\"s\",\"t\",\"u\",\"v\",\"w\",\"x\",\"y\",\"z\"]\n",
    "symb = [\"!\",\"#\",\"$\",\"%\",\"^\",\"&\",\"*\",\"+\",\"-\",\"=\"]\n",
    "upper_char = [c.upper() for c in char]"
   ]
  },
  {
   "cell_type": "code",
   "execution_count": 325,
   "metadata": {},
   "outputs": [],
   "source": [
    "# Version 16.09.2020 MMO\n",
    "\n",
    "def passGen(lenght=12, numbers=True, chars=True, symbols=True, upper=True):\n",
    "    \n",
    "    \"\"\"Simple password maker with five arguments and information about it strenght.\"\"\"\n",
    "\n",
    "    bin = []\n",
    "    \n",
    "    if numbers==False and chars==False and symbols==False and upper==False:\n",
    "        print(\"\")    \n",
    "        print(\"-\"*62) \n",
    "        print(\"At least one argument must be given. Pass arrguments such as: \\nnumbers, chars, symbols, upper.\")\n",
    "        print(\"-\"*62) \n",
    "        print(\"\")    \n",
    "                \n",
    "    else:\n",
    "        \n",
    "        if numbers == True:\n",
    "            bin.extend(num)\n",
    "        if chars == True:\n",
    "            bin.extend(char)\n",
    "        if symbols == True:\n",
    "            bin.extend(symb)\n",
    "        if upper == True:\n",
    "            bin.extend(upper_char)\n",
    "\n",
    "        passwd = \"\".join(np.random.choice(bin, size=lenght))\n",
    "\n",
    "        print(\"\")    \n",
    "        print(\"-\"*78) \n",
    "        print(f\"Your password is constructed with {lenght} elements.\") \n",
    "        print(\"-\"*78) \n",
    "        print(\"\")\n",
    "        print(passwd)\n",
    "        print(\"\")\n",
    "        \n",
    "        # https://thycotic.force.com/support/s/article/Calculating-Password-Complexity\n",
    "       \n",
    "        combinations = len(bin)**lenght\n",
    "        time = ((1.7*10**-6*combinations)/2)/86400/365\n",
    "        \n",
    "        print(\"-\"*78) \n",
    "        print(f\"Your password has - {combinations} - possible combinations. \\nIt will take approximatelly:\")\n",
    "        print(f\"\\n{round(time,2)} - years to crack it on a modern computer (8 core, 2.8 GHz).\")\n",
    "        print(f\"{round(time/100,2)} - years to crack it on a modern computer equipped with GPU or 3D card.\")\n",
    "        print(f\"{round(time/100000,2)} - years to crack it on a supercomputer or a botnet.\\n\")"
   ]
  },
  {
   "cell_type": "code",
   "execution_count": 326,
   "metadata": {},
   "outputs": [
    {
     "name": "stdout",
     "output_type": "stream",
     "text": [
      "\n",
      "------------------------------------------------------------------------------\n",
      "Your password is constructed with 11 elements.\n",
      "------------------------------------------------------------------------------\n",
      "\n",
      "$9y3REGi8vt\n",
      "\n",
      "------------------------------------------------------------------------------\n",
      "Your password has - 269561249468963094528 - possible combinations. \n",
      "It will take approximatelly:\n",
      "\n",
      "7265571.48 - years to crack it on a modern computer (8 core, 2.8 GHz).\n",
      "72655.71 - years to crack it on a modern computer equipped with GPU or 3D card.\n",
      "72.66 - years to crack it on a supercomputer or a botnet.\n",
      "\n"
     ]
    }
   ],
   "source": [
    "passGen(11,1,1,1,1)"
   ]
  },
  {
   "cell_type": "code",
   "execution_count": null,
   "metadata": {},
   "outputs": [],
   "source": []
  }
 ],
 "metadata": {
  "kernelspec": {
   "display_name": "Python 3",
   "language": "python",
   "name": "python3"
  },
  "language_info": {
   "codemirror_mode": {
    "name": "ipython",
    "version": 3
   },
   "file_extension": ".py",
   "mimetype": "text/x-python",
   "name": "python",
   "nbconvert_exporter": "python",
   "pygments_lexer": "ipython3",
   "version": "3.8.5"
  }
 },
 "nbformat": 4,
 "nbformat_minor": 4
}
