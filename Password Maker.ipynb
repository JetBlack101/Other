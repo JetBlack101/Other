{
 "cells": [
  {
   "cell_type": "markdown",
   "metadata": {},
   "source": [
    "# Simple password generator"
   ]
  },
  {
   "cell_type": "markdown",
   "metadata": {},
   "source": [
    "## Functional approach"
   ]
  },
  {
   "cell_type": "code",
   "execution_count": 99,
   "metadata": {},
   "outputs": [],
   "source": [
    "import numpy as np\n",
    "import string as s"
   ]
  },
  {
   "cell_type": "code",
   "execution_count": 131,
   "metadata": {},
   "outputs": [],
   "source": [
    "def passGen(lenght=12, numbers=True, chars=True, symbols=True, upper=True):\n",
    "    \n",
    "    \"\"\"Simple password maker with five arguments and information about it strenght.\"\"\"\n",
    "    \n",
    "    if lenght < 1 or numbers==False and chars==False and symbols==False and upper==False:\n",
    "    \n",
    "        print(\"_\"*105) \n",
    "        print(\"\\nAt least lenght and one argument must be given. \\nPass arguments such as: numbers, chars, symbols, upper.\")\n",
    "        print(\"_\"*105) \n",
    "        print(\"\")    \n",
    "                \n",
    "    else:\n",
    "        \n",
    "        num, char, symb, upper_char = s.digits, s.ascii_lowercase, s.punctuation, s.ascii_uppercase \n",
    "        bin = []\n",
    "    \n",
    "        if numbers == True:\n",
    "            bin.extend(num)\n",
    "        if chars == True:\n",
    "            bin.extend(char)\n",
    "        if symbols == True:\n",
    "            bin.extend(symb)\n",
    "        if upper == True:\n",
    "            bin.extend(upper_char)\n",
    "\n",
    "        passwd = \"\".join(np.random.choice(bin, size=lenght))\n",
    "\n",
    "        print(\"\\n\",passwd,\"\\n\")\n",
    "                \n",
    "        # https://thycotic.force.com/support/s/article/Calculating-Password-Complexity\n",
    "        # 588235 per second modern computer\n",
    "\n",
    "        combinations = len(bin)**lenght\n",
    "        time = ((1.7*10**-6*combinations)/2)/86400/365 \n",
    "\n",
    "        print(\"_\"*105)\n",
    "        print(f\"\\nYour password is constructed with {lenght} elements from a {len(bin)} elements set.\") \n",
    "        print(f\"It has {combinations:,d} possible combinations. \\nIt will take approximatelly:\")\n",
    "        print(f\"~ {round(time,2)} years to crack your password on a modern computer (8 core, 2.8 GHz processor).\")\n",
    "        print(f\"~ {round(time/100,2)} years to crack  your password  on a modern computer equipped with GPU or 3D card.\")\n",
    "        print(f\"~ {round(time/100000,2)} years to crack  your password on a supercomputer or a botnet.\")\n",
    "        print(\"_\"*105,\"\\n\")\n"
   ]
  },
  {
   "cell_type": "code",
   "execution_count": 132,
   "metadata": {},
   "outputs": [
    {
     "name": "stdout",
     "output_type": "stream",
     "text": [
      "\n",
      " 7NpX8x~|t]lqq,N6+J>hbr(x^Y<ozz3a \n",
      "\n",
      "_________________________________________________________________________________________________________\n",
      "\n",
      "Your password is constructed with 32 elements from a 94 elements set.\n",
      "It has 1,380,674,536,088,650,126,365,233,338,290,905,239,051,505,147,118,049,339,937,652,736 possible combinations. \n",
      "It will take approximatelly:\n",
      "~ 3.7213766986153996e+49 years to crack your password on a modern computer (8 core, 2.8 GHz processor).\n",
      "~ 3.7213766986154e+47 years to crack  your password  on a modern computer equipped with GPU or 3D card.\n",
      "~ 3.721376698615399e+44 years to crack  your password on a supercomputer or a botnet.\n",
      "_________________________________________________________________________________________________________ \n",
      "\n"
     ]
    }
   ],
   "source": [
    "passGen(32,1,1,1,1)"
   ]
  }
 ],
 "metadata": {
  "kernelspec": {
   "display_name": "Python 3",
   "language": "python",
   "name": "python3"
  },
  "language_info": {
   "codemirror_mode": {
    "name": "ipython",
    "version": 3
   },
   "file_extension": ".py",
   "mimetype": "text/x-python",
   "name": "python",
   "nbconvert_exporter": "python",
   "pygments_lexer": "ipython3",
   "version": "3.8.5"
  }
 },
 "nbformat": 4,
 "nbformat_minor": 4
}
